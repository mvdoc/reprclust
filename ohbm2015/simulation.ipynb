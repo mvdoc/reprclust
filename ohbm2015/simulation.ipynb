{
 "cells": [
  {
   "cell_type": "code",
   "execution_count": null,
   "metadata": {
    "collapsed": true
   },
   "outputs": [],
   "source": [
    "import sys\n",
    "sys.path.insert(1, '../')"
   ]
  },
  {
   "cell_type": "code",
   "execution_count": null,
   "metadata": {
    "collapsed": false
   },
   "outputs": [],
   "source": [
    "import matplotlib.pyplot as pl\n",
    "import numpy as np\n",
    "import pandas as pd\n",
    "from reprclust import sim, stability\n",
    "from scipy.spatial.distance import squareform\n",
    "from sklearn.feature_extraction.image import grid_to_graph\n",
    "from sklearn.cross_validation import ShuffleSplit\n",
    "from time import time"
   ]
  },
  {
   "cell_type": "code",
   "execution_count": null,
   "metadata": {
    "collapsed": false
   },
   "outputs": [],
   "source": [
    "%pylab inline"
   ]
  },
  {
   "cell_type": "code",
   "execution_count": null,
   "metadata": {
    "collapsed": false
   },
   "outputs": [],
   "source": [
    "# target RDMs\n",
    "subordinate = np.array([[0,2.,2,2,2,2],\n",
    "                        [2,0,2,2,2,2],\n",
    "                        [2,2,0,2,2,2],\n",
    "                        [2,2,2,0,2,2],\n",
    "                        [2,2,2,2,0,2],\n",
    "                        [2,2,2,2,2,0]])\n",
    "subordinate = squareform(subordinate)\n",
    "\n",
    "superordinate = np.array([[0,1.,2,2,2,2],\n",
    "                          [1,0,2,2,2,2],\n",
    "                          [2,2,0,1,2,2],\n",
    "                          [2,2,1,0,2,2],\n",
    "                          [2,2,2,2,0,1],\n",
    "                          [2,2,2,2,1,0]])\n",
    "superordinate = squareform(superordinate)\n",
    "\n",
    "\n",
    "animate = np.array([[0,1.,1,2,2,2],\n",
    "                    [1,0,1,2,2,2],\n",
    "                    [1,1,0,2,2,2],\n",
    "                    [2,2,2,0,1,1],\n",
    "                    [2,2,2,1,0,1],\n",
    "                    [2,2,2,1,1,0]])\n",
    "animate = squareform(animate)\n",
    "\n",
    "continuum = np.array([[0,.4,.8,1.2,1.6,2],\n",
    "                      [.4,0,.4,.8,1.2,1.6],\n",
    "                      [.8,.4,0,.4,.8,1.2],\n",
    "                      [1.2,.8,.4,0,.4,.8],\n",
    "                      [1.6,1.2,.8,.4,0,.4],\n",
    "                      [2,1.6,1.2,.8,.4,0]])\n",
    "continuum = squareform(continuum)\n",
    "\n",
    "faces = np.array([[0,1.,2,2,2,2],\n",
    "                  [1,0,2,2,2,2],\n",
    "                  [2,2,0,2,2,2],\n",
    "                  [2,2,2,0,2,2],\n",
    "                  [2,2,2,2,0,2],\n",
    "                  [2,2,2,2,2,0]])\n",
    "faces = squareform(faces)\n",
    "\n",
    "np.random.seed(42)\n",
    "random_rsa = np.random.uniform(0, 2, 15)"
   ]
  },
  {
   "cell_type": "code",
   "execution_count": null,
   "metadata": {
    "collapsed": false
   },
   "outputs": [],
   "source": [
    "rsas = ['subordinate', 'superordinate', 'animate',\n",
    "        'continuum', 'faces', 'random_rsa']\n",
    "\n",
    "fig = pl.figure(figsize=(12, 10))\n",
    "for i, rsa in enumerate(rsas):\n",
    "    ax = fig.add_subplot(2, 3, i+1)\n",
    "    ax.imshow(squareform(eval(rsa)), interpolation='nearest')\n",
    "    ax.set_title(rsa)\n",
    "    ax.axis('off')\n",
    "    pl.tight_layout()"
   ]
  },
  {
   "cell_type": "code",
   "execution_count": null,
   "metadata": {
    "collapsed": true
   },
   "outputs": [],
   "source": [
    "radius_sphere = 6.5"
   ]
  },
  {
   "cell_type": "code",
   "execution_count": null,
   "metadata": {
    "collapsed": false
   },
   "outputs": [],
   "source": [
    "# generate simulated data\n",
    "np.random.seed(101)\n",
    "a_clean, cluster_truth, dss = \\\n",
    "    sim.simple_sim1((50, 50), \n",
    "                    [subordinate, superordinate,animate, continuum, faces, random_rsa],\n",
    "                    roi_neighborhood=sim.Sphere(radius_sphere),\n",
    "                    nruns=1, nsubjects=10,\n",
    "                    # noise components -- we just add normal for now also with\n",
    "                    # spatial smoothing to possibly create difference in noise\n",
    "                    # characteristics across different kinds\n",
    "                    #\n",
    "                    # \"Instrumental noise\" -- generic nuisance\n",
    "                    noise_independent_std=5, noise_independent_smooth=1.5,\n",
    "                    # \"Intrinsic signal\", specific per each subject (due to\n",
    "                    # motion, whatever) -- might be fun for someone to cluster,\n",
    "                    # but irrelevant for us\n",
    "                    noise_subject_n=1, noise_subject_std=2, noise_subject_smooth=2.,\n",
    "                    # \"Intrinsic common signal\" -- probably generalizes across\n",
    "                    # subjects and fun for someone studying veins to get those\n",
    "                    # reproducible clusters.  It will be mixed in also with\n",
    "                    # different weights per each run.\n",
    "                    # Again -- might be fun for someone to cluster, but not for us\n",
    "                    # since it would not be representative of the original signal\n",
    "                    noise_common_n=1, noise_common_std=0, noise_common_smooth=2.)"
   ]
  },
  {
   "cell_type": "code",
   "execution_count": null,
   "metadata": {
    "collapsed": false
   },
   "outputs": [],
   "source": [
    "fig = figure()\n",
    "ax = fig.add_subplot(111)\n",
    "img = ax.imshow(cluster_truth, interpolation='nearest')\n",
    "ax.set_title('Cluster Ground Truth');\n",
    "ax.axis('off');\n",
    "plt.colorbar(img);"
   ]
  },
  {
   "cell_type": "code",
   "execution_count": null,
   "metadata": {
    "collapsed": true
   },
   "outputs": [],
   "source": [
    "# Extract the samples from the datasets and fisher transform them\n",
    "samples = [np.arctanh(ds.samples) for ds in dss]"
   ]
  },
  {
   "cell_type": "code",
   "execution_count": null,
   "metadata": {
    "collapsed": false
   },
   "outputs": [],
   "source": [
    "# Plot average across DSM\n",
    "fig = figure(figsize=(12, 10))\n",
    "for i in range(10):\n",
    "    ax = fig.add_subplot(2, 5, i+1)\n",
    "    ax.imshow(np.mean(samples[i], axis=0).reshape(*cluster_truth.shape))\n",
    "    ax.axis('off')\n",
    "    ax.set_title('Subject {0}'.format(i+1))\n",
    "    pl.tight_layout()"
   ]
  },
  {
   "cell_type": "code",
   "execution_count": null,
   "metadata": {
    "collapsed": true
   },
   "outputs": [],
   "source": [
    "# create 'connectivity' matrix for this 2D image\n",
    "connectivity = grid_to_graph(*cluster_truth.shape)"
   ]
  },
  {
   "cell_type": "code",
   "execution_count": null,
   "metadata": {
    "collapsed": false
   },
   "outputs": [],
   "source": [
    "n_splits = 20\n",
    "max_k = 10\n",
    "corr_score_type = 'pearson'\n",
    "\n",
    "# run simulation for all methods -- takes around 10m on a quad-core macbook air\n",
    "splitter = ShuffleSplit(len(samples), n_iter=n_splits, test_size=.5,\n",
    "                        random_state=42)\n",
    "result = {}\n",
    "algorithms = {'complete': ('complete', {}),\n",
    "              'ward-str': ('ward', {'connectivity': connectivity}), \n",
    "              'ward-unstr': ('ward', {}), \n",
    "              'kmeans': ('kmeans', {}), \n",
    "              'gmm-tied': ('gmm', {'covariance_type': 'tied'}),\n",
    "              'gmm-diag': ('gmm', {'covariance_type': 'diag'}), \n",
    "              'gmm-sph': ('gmm', {'covariance_type': 'spherical'}), \n",
    "              'gmm-full': ('gmm', {'covariance_type': 'full'})}\n",
    "\n",
    "for key, value in algorithms.iteritems():\n",
    "    print 'Running {0}'.format(key),\n",
    "    method, kwargs = value\n",
    "    tstart = time()\n",
    "    result[key] = stability.compute_stability(splitter, samples, n_jobs=-1, max_k=max_k,\n",
    "                                              method=method, ground_truth=cluster_truth.reshape(-1,),\n",
    "                                              corr_score=corr_score_type, verbose=0,\n",
    "                                              **kwargs)\n",
    "    print 'done in {0:.2f}s'.format(time()-tstart)"
   ]
  },
  {
   "cell_type": "code",
   "execution_count": null,
   "metadata": {
    "collapsed": false
   },
   "outputs": [],
   "source": [
    "# save data for plotting with R\n",
    "algos = []\n",
    "out = []\n",
    "for algo, res in result.iteritems():\n",
    "    algos.append([algo]*len(res[0]))\n",
    "    out.append(np.vstack(res[:4] + res[5:]).T)\n",
    "out = np.vstack(out)\n",
    "algos = np.hstack(algos).reshape(-1, 1)\n",
    "d = np.hstack((out, algos))"
   ]
  },
  {
   "cell_type": "code",
   "execution_count": null,
   "metadata": {
    "collapsed": false
   },
   "outputs": [],
   "source": [
    "df = pd.DataFrame(data=d, columns=['k', 'ARI', 'AMI', 'Instability',\n",
    "                                   'ARI_GT', 'AMI_GT', 'Instability_GT', \n",
    "                                   'Correlation', 'Correlation_GT', 'Algorithm'])"
   ]
  },
  {
   "cell_type": "code",
   "execution_count": null,
   "metadata": {
    "collapsed": false
   },
   "outputs": [],
   "source": [
    "fnout = 'simulation_results_rsph{0}_{1}.csv'.format(radius_sphere, corr_score_type)\n",
    "df.to_csv(fnout)"
   ]
  },
  {
   "cell_type": "code",
   "execution_count": null,
   "metadata": {
    "collapsed": false
   },
   "outputs": [],
   "source": [
    "# assuming packages reshape2, plyr, ggplot2 and R are installed, \n",
    "# run the following line to generate the image\n",
    "!Rscript plot_simulated_results.R $fnout"
   ]
  }
 ],
 "metadata": {
  "kernelspec": {
   "display_name": "Python 2",
   "language": "python",
   "name": "python2"
  },
  "language_info": {
   "codemirror_mode": {
    "name": "ipython",
    "version": 2
   },
   "file_extension": ".py",
   "mimetype": "text/x-python",
   "name": "python",
   "nbconvert_exporter": "python",
   "pygments_lexer": "ipython2",
   "version": "2.7.9"
  }
 },
 "nbformat": 4,
 "nbformat_minor": 0
}
