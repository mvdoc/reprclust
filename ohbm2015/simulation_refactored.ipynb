{
 "cells": [
  {
   "cell_type": "code",
   "execution_count": 1,
   "metadata": {
    "collapsed": true
   },
   "outputs": [],
   "source": [
    "import sys\n",
    "sys.path.insert(1, '../')"
   ]
  },
  {
   "cell_type": "code",
   "execution_count": 2,
   "metadata": {
    "collapsed": false
   },
   "outputs": [],
   "source": [
    "import matplotlib.pyplot as pl\n",
    "import numpy as np\n",
    "import pandas as pd\n",
    "\n",
    "from reprclust.reproducibility import reproducibility\n",
    "from reprclust.cluster_methods import (CompleteClusterMethod, WardClusterMethod, \n",
    "                                       KMeansClusterMethod, GMMClusterMethod)\n",
    "from reprclust.cluster_metrics import (ARI, AMI, CorrelationScore, InstabilityScore, rand_instability_score)\n",
    "from reprclust import sim\n",
    "\n",
    "from scipy.spatial.distance import squareform\n",
    "from sklearn.feature_extraction.image import grid_to_graph\n",
    "from sklearn.cross_validation import ShuffleSplit\n",
    "from time import time"
   ]
  },
  {
   "cell_type": "code",
   "execution_count": 3,
   "metadata": {
    "collapsed": true
   },
   "outputs": [],
   "source": [
    "plot_figs = False"
   ]
  },
  {
   "cell_type": "code",
   "execution_count": 4,
   "metadata": {
    "collapsed": false
   },
   "outputs": [
    {
     "name": "stdout",
     "output_type": "stream",
     "text": [
      "Populating the interactive namespace from numpy and matplotlib\n"
     ]
    }
   ],
   "source": [
    "%pylab inline"
   ]
  },
  {
   "cell_type": "code",
   "execution_count": 5,
   "metadata": {
    "collapsed": false
   },
   "outputs": [],
   "source": [
    "# target RDMs\n",
    "subordinate = np.array([[0,2.,2,2,2,2],\n",
    "                        [2,0,2,2,2,2],\n",
    "                        [2,2,0,2,2,2],\n",
    "                        [2,2,2,0,2,2],\n",
    "                        [2,2,2,2,0,2],\n",
    "                        [2,2,2,2,2,0]])\n",
    "subordinate = squareform(subordinate)\n",
    "\n",
    "superordinate = np.array([[0,1.,2,2,2,2],\n",
    "                          [1,0,2,2,2,2],\n",
    "                          [2,2,0,1,2,2],\n",
    "                          [2,2,1,0,2,2],\n",
    "                          [2,2,2,2,0,1],\n",
    "                          [2,2,2,2,1,0]])\n",
    "superordinate = squareform(superordinate)\n",
    "\n",
    "\n",
    "animate = np.array([[0,1.,1,2,2,2],\n",
    "                    [1,0,1,2,2,2],\n",
    "                    [1,1,0,2,2,2],\n",
    "                    [2,2,2,0,1,1],\n",
    "                    [2,2,2,1,0,1],\n",
    "                    [2,2,2,1,1,0]])\n",
    "animate = squareform(animate)\n",
    "\n",
    "continuum = np.array([[0,.4,.8,1.2,1.6,2],\n",
    "                      [.4,0,.4,.8,1.2,1.6],\n",
    "                      [.8,.4,0,.4,.8,1.2],\n",
    "                      [1.2,.8,.4,0,.4,.8],\n",
    "                      [1.6,1.2,.8,.4,0,.4],\n",
    "                      [2,1.6,1.2,.8,.4,0]])\n",
    "continuum = squareform(continuum)\n",
    "\n",
    "faces = np.array([[0,1.,2,2,2,2],\n",
    "                  [1,0,2,2,2,2],\n",
    "                  [2,2,0,2,2,2],\n",
    "                  [2,2,2,0,2,2],\n",
    "                  [2,2,2,2,0,2],\n",
    "                  [2,2,2,2,2,0]])\n",
    "faces = squareform(faces)\n",
    "\n",
    "np.random.seed(42)\n",
    "random_rsa = np.random.uniform(0, 2, 15)"
   ]
  },
  {
   "cell_type": "code",
   "execution_count": 6,
   "metadata": {
    "collapsed": false
   },
   "outputs": [],
   "source": [
    "if plot_figs:\n",
    "    rsas = ['subordinate', 'superordinate', 'animate',\n",
    "            'continuum', 'faces', 'random_rsa']\n",
    "\n",
    "    fig = pl.figure(figsize=(12, 10))\n",
    "    for i, rsa in enumerate(rsas):\n",
    "        ax = fig.add_subplot(2, 3, i+1)\n",
    "        ax.imshow(squareform(eval(rsa)), interpolation='nearest')\n",
    "        ax.set_title(rsa)\n",
    "        ax.axis('off')\n",
    "        pl.tight_layout()"
   ]
  },
  {
   "cell_type": "code",
   "execution_count": 7,
   "metadata": {
    "collapsed": true
   },
   "outputs": [],
   "source": [
    "radius_sphere = 6.5"
   ]
  },
  {
   "cell_type": "code",
   "execution_count": 8,
   "metadata": {
    "collapsed": false
   },
   "outputs": [],
   "source": [
    "# generate simulated data\n",
    "np.random.seed(101)\n",
    "a_clean, cluster_truth, dss = \\\n",
    "    sim.simple_sim1((50, 50), \n",
    "                    [subordinate, superordinate,animate, continuum, faces, random_rsa],\n",
    "                    roi_neighborhood=sim.Sphere(radius_sphere),\n",
    "                    nruns=1, nsubjects=10,\n",
    "                    # noise components -- we just add normal for now also with\n",
    "                    # spatial smoothing to possibly create difference in noise\n",
    "                    # characteristics across different kinds\n",
    "                    #\n",
    "                    # \"Instrumental noise\" -- generic nuisance\n",
    "                    noise_independent_std=5, noise_independent_smooth=1.5,\n",
    "                    # \"Intrinsic signal\", specific per each subject (due to\n",
    "                    # motion, whatever) -- might be fun for someone to cluster,\n",
    "                    # but irrelevant for us\n",
    "                    noise_subject_n=1, noise_subject_std=2, noise_subject_smooth=2.,\n",
    "                    # \"Intrinsic common signal\" -- probably generalizes across\n",
    "                    # subjects and fun for someone studying veins to get those\n",
    "                    # reproducible clusters.  It will be mixed in also with\n",
    "                    # different weights per each run.\n",
    "                    # Again -- might be fun for someone to cluster, but not for us\n",
    "                    # since it would not be representative of the original signal\n",
    "                    noise_common_n=1, noise_common_std=0, noise_common_smooth=2.)"
   ]
  },
  {
   "cell_type": "code",
   "execution_count": 9,
   "metadata": {
    "collapsed": false
   },
   "outputs": [],
   "source": [
    "if plot_figs:\n",
    "    fig = figure()\n",
    "    ax = fig.add_subplot(111)\n",
    "    img = ax.imshow(cluster_truth, interpolation='nearest')\n",
    "    ax.set_title('Cluster Ground Truth');\n",
    "    ax.axis('off');\n",
    "    plt.colorbar(img);"
   ]
  },
  {
   "cell_type": "code",
   "execution_count": 10,
   "metadata": {
    "collapsed": true
   },
   "outputs": [],
   "source": [
    "# Extract the samples from the datasets and fisher transform them\n",
    "samples = [np.arctanh(ds.samples).T for ds in dss]"
   ]
  },
  {
   "cell_type": "code",
   "execution_count": 11,
   "metadata": {
    "collapsed": false
   },
   "outputs": [],
   "source": [
    "# Plot average across DSM\n",
    "if plot_figs:\n",
    "    fig = figure(figsize=(12, 10))\n",
    "    for i in range(10):\n",
    "        ax = fig.add_subplot(2, 5, i+1)\n",
    "        ax.imshow(np.mean(samples[i].T, axis=0).reshape(*cluster_truth.shape))\n",
    "        ax.axis('off')\n",
    "        ax.set_title('Subject {0}'.format(i+1))\n",
    "        pl.tight_layout()"
   ]
  },
  {
   "cell_type": "code",
   "execution_count": 12,
   "metadata": {
    "collapsed": true
   },
   "outputs": [],
   "source": [
    "# create 'connectivity' matrix for this 2D image\n",
    "connectivity = grid_to_graph(*cluster_truth.shape)"
   ]
  },
  {
   "cell_type": "code",
   "execution_count": 13,
   "metadata": {
    "collapsed": true
   },
   "outputs": [],
   "source": [
    "n_splits = 20\n",
    "ks = np.arange(2, 11)\n",
    "corr_score_type = 'pearson'\n",
    "\n",
    "# run simulation for all methods -- takes around 10m on a quad-core macbook air\n",
    "splitter = ShuffleSplit(len(samples), n_iter=n_splits, test_size=.5,\n",
    "                        random_state=42)"
   ]
  },
  {
   "cell_type": "code",
   "execution_count": 14,
   "metadata": {
    "collapsed": false
   },
   "outputs": [],
   "source": [
    "algorithms = {'ward-str': WardClusterMethod(connectivity=connectivity)}#,\n",
    "              #'kmeans': KMeansClusterMethod()}"
   ]
  },
  {
   "cell_type": "code",
   "execution_count": 14,
   "metadata": {
    "collapsed": true
   },
   "outputs": [],
   "source": [
    "algorithms = {'complete': CompleteClusterMethod(),\n",
    "              'ward-str': WardClusterMethod(connectivity=connectivity),\n",
    "              'ward-unstr': WardClusterMethod(),\n",
    "              'kmeans': KMeansClusterMethod(),\n",
    "              'gmm-tied': GMMClusterMethod(covariance_type='tied'),\n",
    "              'gmm-diag': GMMClusterMethod(covariance_type='diag'),\n",
    "              'gmm-sph': GMMClusterMethod(covariance_type='spherical'),\n",
    "              'gmm-full': GMMClusterMethod(covariance_type='full')}"
   ]
  },
  {
   "cell_type": "code",
   "execution_count": 15,
   "metadata": {
    "collapsed": true
   },
   "outputs": [],
   "source": [
    "# set up additional cluster metrics\n",
    "\n",
    "# normalization scores for instability\n",
    "normalization_scores = rand_instability_score(ks, connectivity.size, 20)\n",
    "instability_score = InstabilityScore(normalization_scores)\n",
    "\n",
    "# correlation score\n",
    "correlation_score = CorrelationScore(corr_type=corr_score_type)\n",
    "\n",
    "# ari, ami\n",
    "ari = ARI()\n",
    "ami = AMI()\n",
    "\n",
    "cluster_metrics = [ari, ami, instability_score, correlation_score]"
   ]
  },
  {
   "cell_type": "code",
   "execution_count": 17,
   "metadata": {
    "collapsed": false
   },
   "outputs": [
    {
     "name": "stdout",
     "output_type": "stream",
     "text": [
      "Running ward-str done in 17.72s\n"
     ]
    }
   ],
   "source": [
    "result = {}\n",
    "for key, cluster_method in algorithms.items():\n",
    "    print 'Running {0}'.format(key),\n",
    "    tstart = time()\n",
    "    r = reproducibility(samples, splitter, cluster_method, ks=ks, ground_truth=cluster_truth.reshape(-1,),\n",
    "                        cluster_metrics=cluster_metrics, n_jobs=4, verbose=0)\n",
    "    print 'done in {0:.2f}s'.format(time()-tstart)\n",
    "    result[key] = r"
   ]
  },
  {
   "cell_type": "code",
   "execution_count": 23,
   "metadata": {
    "collapsed": true
   },
   "outputs": [],
   "source": [
    "w = algorithms['ward-str']"
   ]
  },
  {
   "cell_type": "code",
   "execution_count": 25,
   "metadata": {
    "collapsed": false
   },
   "outputs": [
    {
     "data": {
      "text/plain": [
       "True"
      ]
     },
     "execution_count": 25,
     "metadata": {},
     "output_type": "execute_result"
    }
   ],
   "source": [
    "w.is_trained"
   ]
  },
  {
   "cell_type": "code",
   "execution_count": 16,
   "metadata": {
    "collapsed": false
   },
   "outputs": [
    {
     "name": "stdout",
     "output_type": "stream",
     "text": [
      "[[  2.           3.           4.           5.           6.           7.\n",
      "    8.           9.          10.           2.           3.           4.\n",
      "    5.           6.           7.           8.           9.          10.\n",
      "    2.           3.           4.           5.           6.           7.\n",
      "    8.           9.          10.           2.           3.           4.\n",
      "    5.           6.           7.           8.           9.          10.\n",
      "    2.           3.           4.           5.           6.           7.\n",
      "    8.           9.          10.           2.           3.           4.\n",
      "    5.           6.           7.           8.           9.          10.\n",
      "    2.           3.           4.           5.           6.           7.\n",
      "    8.           9.          10.           2.           3.           4.\n",
      "    5.           6.           7.           8.           9.          10.\n",
      "    2.           3.           4.           5.           6.           7.\n",
      "    8.           9.          10.           2.           3.           4.\n",
      "    5.           6.           7.           8.           9.          10.\n",
      "    2.           3.           4.           5.           6.           7.\n",
      "    8.           9.          10.           2.           3.           4.\n",
      "    5.           6.           7.           8.           9.          10.\n",
      "    2.           3.           4.           5.           6.           7.\n",
      "    8.           9.          10.           2.           3.           4.\n",
      "    5.           6.           7.           8.           9.          10.\n",
      "    2.           3.           4.           5.           6.           7.\n",
      "    8.           9.          10.           2.           3.           4.\n",
      "    5.           6.           7.           8.           9.          10.\n",
      "    2.           3.           4.           5.           6.           7.\n",
      "    8.           9.          10.           2.           3.           4.\n",
      "    5.           6.           7.           8.           9.          10.\n",
      "    2.           3.           4.           5.           6.           7.\n",
      "    8.           9.          10.           2.           3.           4.\n",
      "    5.           6.           7.           8.           9.          10.        ]\n",
      " [  1.           1.           1.           1.           1.           0.84008679\n",
      "    0.88167075   0.69987314   0.63791806   1.           1.           1.\n",
      "    0.78793914   0.80266027   0.79261384   0.85195286   0.73853821\n",
      "    0.62097871   1.           1.           1.           0.78790577\n",
      "    0.8026292    0.78242941   0.83993746   0.7448814    0.60549612   1.\n",
      "    1.           1.           1.           1.           0.83776588\n",
      "    0.87654867   0.80028354   0.62244545   0.96743727   0.98291628\n",
      "    0.9863457    0.98927711   0.99141008   0.80586143   0.85707622\n",
      "    0.71905382   0.59832326   0.98516176   0.9920186    0.99354527\n",
      "    0.99493025   0.99580213   0.80921339   0.84882247   0.76120395\n",
      "    0.66802124   1.           1.           1.           1.           1.\n",
      "    0.79653398   0.84562944   0.68037986   0.59101525   0.97249006\n",
      "    0.98503641   0.987733     0.7787585    0.79454118   0.82579246\n",
      "    0.87543394   0.67040868   0.62081791   0.95160608   0.97504755\n",
      "    0.98020544   0.7723939    0.79049736   0.80880065   0.86645055\n",
      "    0.7442422    0.60740876   0.9919486    0.99555875   0.99638402\n",
      "    0.78509942   0.80031134   0.80654342   0.86429574   0.76801145\n",
      "    0.72104139   1.           1.           1.           1.           1.\n",
      "    0.80395419   0.84339906   0.74703801   0.62045963   1.           1.\n",
      "    1.           0.9776288    0.9791818    0.78680031   0.83515987\n",
      "    0.77957109   0.62612941   1.           1.           1.           0.78793914\n",
      "    0.80266027   0.79950716   0.85849318   0.76574709   0.6490688    1.\n",
      "    1.           1.           1.           1.           0.79079431\n",
      "    0.84490056   0.67582075   0.63324608   1.           1.           1.\n",
      "    0.78793914   0.80266027   0.8262005    0.88153848   0.67095189\n",
      "    0.60727483   0.96716903   0.98301445   0.98642353   0.777563\n",
      "    0.79416948   0.81970738   0.87342298   0.79660667   0.65779217   1.\n",
      "    1.           1.           0.78793914   0.80266027   0.82188778\n",
      "    0.87990239   0.7700038    0.67710897   0.97887514   0.98881361\n",
      "    0.99099605   0.99292748   0.99418991   0.82665967   0.87792697\n",
      "    0.66274898   0.57952226   0.91449211   0.95707348   0.9664052\n",
      "    0.97361759   0.97995571   0.80800971   0.8540142    0.65162053\n",
      "    0.60949401   0.98516176   0.9920186    0.99354527   0.78342817\n",
      "    0.79846236   0.81753679   0.87476386   0.66381126   0.61115177]]\n"
     ]
    }
   ],
   "source": [
    "print result['ward-str']['AMI']"
   ]
  },
  {
   "cell_type": "code",
   "execution_count": 52,
   "metadata": {
    "collapsed": false
   },
   "outputs": [
    {
     "data": {
      "text/plain": [
       "['k',\n",
       " 'adjusted_rand_score',\n",
       " 'adjusted_mutual_info_score',\n",
       " 'adjusted_rand_score_gt',\n",
       " 'adjusted_mutual_info_score_gt']"
      ]
     },
     "execution_count": 52,
     "metadata": {},
     "output_type": "execute_result"
    }
   ],
   "source": [
    "result['kmeans'].get_header_scores()"
   ]
  },
  {
   "cell_type": "code",
   "execution_count": 53,
   "metadata": {
    "collapsed": false
   },
   "outputs": [],
   "source": [
    "out = []\n",
    "for method, res in result.items():\n",
    "    arr = res.get_array_scores()\n",
    "    out.append(np.hstack((arr, np.array([method]*arr.shape[0]).reshape(-1, 1))))\n",
    "out = np.vstack(out)"
   ]
  },
  {
   "cell_type": "code",
   "execution_count": 54,
   "metadata": {
    "collapsed": false
   },
   "outputs": [],
   "source": [
    "df = pd.DataFrame(data=out, columns=res.get_header_scores() + ['algorithm'])"
   ]
  },
  {
   "cell_type": "code",
   "execution_count": 55,
   "metadata": {
    "collapsed": false
   },
   "outputs": [
    {
     "name": "stdout",
     "output_type": "stream",
     "text": [
      "         k adjusted_rand_score adjusted_mutual_info_score  \\\n",
      "0      2.0                 1.0                        1.0   \n",
      "1      3.0                 1.0                        1.0   \n",
      "2      4.0                 1.0                        1.0   \n",
      "3      5.0      0.835480894211             0.813850182169   \n",
      "4      6.0                 1.0                        1.0   \n",
      "5      7.0      0.813427789334             0.828601640372   \n",
      "6      8.0      0.600959488044             0.725568899274   \n",
      "7      9.0      0.530769370409             0.738962405912   \n",
      "8     10.0      0.393787414586             0.662000612441   \n",
      "9      2.0                 1.0                        1.0   \n",
      "10     3.0                 1.0                        1.0   \n",
      "11     4.0                 1.0                        1.0   \n",
      "12     5.0      0.835480894211             0.813850181826   \n",
      "13     6.0                 1.0                        1.0   \n",
      "14     7.0      0.869547975494             0.859429741363   \n",
      "15     8.0      0.917014974361             0.904679982166   \n",
      "16     9.0      0.572048202235             0.718595671814   \n",
      "17    10.0      0.352106632254             0.617383330468   \n",
      "18     2.0                 1.0                        1.0   \n",
      "19     3.0                 1.0                        1.0   \n",
      "20     4.0                 1.0                        1.0   \n",
      "21     5.0      0.998818667424             0.996655702536   \n",
      "22     6.0       0.99881848272              0.99694997629   \n",
      "23     7.0      0.806156565365             0.822385416861   \n",
      "24     8.0      0.932256845742             0.932026479298   \n",
      "25     9.0      0.443864655003             0.701357356061   \n",
      "26    10.0      0.375061487488             0.650428822464   \n",
      "27     2.0                 1.0                        1.0   \n",
      "28     3.0                 1.0                        1.0   \n",
      "29     4.0                 1.0                        1.0   \n",
      "...    ...                 ...                        ...   \n",
      "1410   8.0      0.363149139804             0.657182785667   \n",
      "1411   9.0      0.294950334071             0.584265015733   \n",
      "1412  10.0      0.230495872207             0.526062912977   \n",
      "1413   2.0                 1.0                        1.0   \n",
      "1414   3.0      0.964099182177             0.847680149889   \n",
      "1415   4.0      0.947925025611             0.887038909153   \n",
      "1416   5.0      0.841459619342              0.79193373129   \n",
      "1417   6.0      0.891249987498             0.835886000917   \n",
      "1418   7.0      0.465603262636             0.621945635677   \n",
      "1419   8.0      0.319180580041             0.589036281708   \n",
      "1420   9.0      0.244974958347              0.54172337586   \n",
      "1421  10.0      0.215209730543             0.483837119321   \n",
      "1422   2.0                 1.0                        1.0   \n",
      "1423   3.0      0.995506478952             0.985621912445   \n",
      "1424   4.0      0.883673318605             0.813834376479   \n",
      "1425   5.0      0.783811127887             0.732058765855   \n",
      "1426   6.0        0.8291177086             0.769568906846   \n",
      "1427   7.0      0.717088847121             0.733387323588   \n",
      "1428   8.0      0.502454928533             0.634098828494   \n",
      "1429   9.0      0.249234772884             0.503401206692   \n",
      "1430  10.0      0.222092361637             0.483123925458   \n",
      "1431   2.0                 1.0                        1.0   \n",
      "1432   3.0                 1.0                        1.0   \n",
      "1433   4.0      0.932393617566             0.882525922943   \n",
      "1434   5.0       0.87423857364             0.789156819955   \n",
      "1435   6.0      0.825231130962             0.757788472986   \n",
      "1436   7.0      0.435401745359             0.592363963154   \n",
      "1437   8.0       0.35261707058             0.591144049518   \n",
      "1438   9.0      0.235489117476             0.525696581946   \n",
      "1439  10.0      0.203141934847             0.474356082154   \n",
      "\n",
      "     adjusted_rand_score_gt adjusted_mutual_info_score_gt algorithm  \n",
      "0            0.634272129618                0.430009438372   gmm-sph  \n",
      "1            0.665935794678                 0.52813769164   gmm-sph  \n",
      "2            0.825884024154                0.696548916482   gmm-sph  \n",
      "3            0.847270859073                0.780506839926   gmm-sph  \n",
      "4            0.989600878208                0.940012001299   gmm-sph  \n",
      "5            0.813427789334                0.828601640312   gmm-sph  \n",
      "6            0.524131800154                0.659086056094   gmm-sph  \n",
      "7            0.533400044718                 0.67217823984   gmm-sph  \n",
      "8            0.422751205736                0.622631533566   gmm-sph  \n",
      "9            0.634272129618                0.430009438484   gmm-sph  \n",
      "10           0.665935794678                 0.52813769164   gmm-sph  \n",
      "11           0.825884024154                0.696548916661   gmm-sph  \n",
      "12           0.847270859073                0.780506840272   gmm-sph  \n",
      "13           0.989600878208                0.940012001251   gmm-sph  \n",
      "14           0.869547975494                0.859429741414   gmm-sph  \n",
      "15           0.879946796134                0.866680750458   gmm-sph  \n",
      "16           0.765131115051                0.768981428753   gmm-sph  \n",
      "17           0.708773906695                0.719280335803   gmm-sph  \n",
      "18           0.634272129618                0.430009438484   gmm-sph  \n",
      "19           0.665935794678                 0.52813769164   gmm-sph  \n",
      "20           0.825884024154                0.696548917081   gmm-sph  \n",
      "21           0.966878926529                0.852931194022   gmm-sph  \n",
      "22             0.9884194577                0.937142223704   gmm-sph  \n",
      "23            0.99881800097                0.997127171552   gmm-sph  \n",
      "24           0.816631515366                 0.83134473143   gmm-sph  \n",
      "25           0.544915058706                0.672165146471   gmm-sph  \n",
      "26           0.481132361143                0.632294162423   gmm-sph  \n",
      "27           0.634272129618                0.430009438484   gmm-sph  \n",
      "28           0.665935794678                 0.52813769164   gmm-sph  \n",
      "29           0.825884024154                 0.69654891726   gmm-sph  \n",
      "...                     ...                           ...       ...  \n",
      "1410         0.481926810955                0.662960577593  gmm-full  \n",
      "1411         0.444708511047                0.602023696625  gmm-full  \n",
      "1412         0.316795458839                0.545099457312  gmm-full  \n",
      "1413         0.634272129618                0.430009438484  gmm-full  \n",
      "1414         0.676331575437                0.550750286949  gmm-full  \n",
      "1415         0.775757089605                0.617682353365  gmm-full  \n",
      "1416         0.857759597389                0.695387484992  gmm-full  \n",
      "1417         0.880970139522                0.785592557512  gmm-full  \n",
      "1418         0.465860325221                0.625048625101  gmm-full  \n",
      "1419         0.474090681124                0.630373141257  gmm-full  \n",
      "1420         0.329347983311                0.546797274997  gmm-full  \n",
      "1421         0.324306268805                0.526927001959  gmm-full  \n",
      "1422         0.634272129618                0.430009438484  gmm-full  \n",
      "1423         0.661944918121                 0.52052370508  gmm-full  \n",
      "1424         0.715180189445                0.566550834035  gmm-full  \n",
      "1425         0.798629449306                0.646198247307  gmm-full  \n",
      "1426         0.819016733244                0.723185747114  gmm-full  \n",
      "1427         0.717088847121                0.733387323377  gmm-full  \n",
      "1428         0.591444819757                0.677013731088  gmm-full  \n",
      "1429         0.460740147632                0.579520846946  gmm-full  \n",
      "1430         0.305063383907                0.498943950455  gmm-full  \n",
      "1431         0.634272129618                0.430009438484  gmm-full  \n",
      "1432         0.665935794678                 0.52813769164  gmm-full  \n",
      "1433         0.760999264127                0.614528753659  gmm-full  \n",
      "1434         0.797107819853                0.646782435296  gmm-full  \n",
      "1435         0.815143362528                0.712098873824  gmm-full  \n",
      "1436         0.435401745359                0.592363963416  gmm-full  \n",
      "1437         0.448447926989                0.612125007218  gmm-full  \n",
      "1438         0.310941023731                0.524790244586  gmm-full  \n",
      "1439          0.27635120865                0.486039287594  gmm-full  \n",
      "\n",
      "[1440 rows x 6 columns]\n"
     ]
    }
   ],
   "source": [
    "print(df)"
   ]
  },
  {
   "cell_type": "code",
   "execution_count": 56,
   "metadata": {
    "collapsed": false
   },
   "outputs": [],
   "source": [
    "fnout = 'simulation_results_rsph{0}_refactored.csv'.format(radius_sphere, corr_score_type)\n",
    "df.to_csv(fnout)"
   ]
  },
  {
   "cell_type": "code",
   "execution_count": null,
   "metadata": {
    "collapsed": false
   },
   "outputs": [],
   "source": [
    "# assuming packages reshape2, plyr, ggplot2 and R are installed, \n",
    "# run the following line to generate the image\n",
    "!Rscript plot_simulated_results.R $fnout"
   ]
  }
 ],
 "metadata": {
  "kernelspec": {
   "display_name": "Python 2",
   "language": "python",
   "name": "python2"
  },
  "language_info": {
   "codemirror_mode": {
    "name": "ipython",
    "version": 2
   },
   "file_extension": ".py",
   "mimetype": "text/x-python",
   "name": "python",
   "nbconvert_exporter": "python",
   "pygments_lexer": "ipython2",
   "version": "2.7.9"
  }
 },
 "nbformat": 4,
 "nbformat_minor": 0
}
