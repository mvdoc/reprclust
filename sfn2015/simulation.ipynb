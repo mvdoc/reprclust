{
 "cells": [
  {
   "cell_type": "code",
   "execution_count": 1,
   "metadata": {
    "collapsed": true
   },
   "outputs": [],
   "source": [
    "import sys\n",
    "sys.path.insert(1, '../')"
   ]
  },
  {
   "cell_type": "code",
   "execution_count": 2,
   "metadata": {
    "collapsed": false
   },
   "outputs": [
    {
     "name": "stdout",
     "output_type": "stream",
     "text": [
      "Populating the interactive namespace from numpy and matplotlib\n"
     ]
    }
   ],
   "source": [
    "%pylab inline"
   ]
  },
  {
   "cell_type": "code",
   "execution_count": 3,
   "metadata": {
    "collapsed": false
   },
   "outputs": [],
   "source": [
    "import matplotlib.pyplot as pl\n",
    "from mvpa2.base.dataset import vstack\n",
    "import numpy as np\n",
    "import pandas as pd\n",
    "\n",
    "from reprclust.reproducibility import reproducibility\n",
    "from reprclust.cluster_methods import (CompleteClusterMethod, WardClusterMethod, \n",
    "                                       KMeansClusterMethod, GMMClusterMethod)\n",
    "from reprclust.cluster_metrics import (ARI, AMI, CorrelationScore, InstabilityScore, rand_instability_score)\n",
    "from reprclust import sim\n",
    "\n",
    "from scipy.spatial.distance import squareform\n",
    "from sklearn.feature_extraction.image import grid_to_graph\n",
    "from sklearn.cross_validation import ShuffleSplit, KFold\n",
    "from time import time"
   ]
  },
  {
   "cell_type": "code",
   "execution_count": 4,
   "metadata": {
    "collapsed": true
   },
   "outputs": [],
   "source": [
    "# switch this to False to avoid plotting figures\n",
    "plot_figs = False"
   ]
  },
  {
   "cell_type": "code",
   "execution_count": 5,
   "metadata": {
    "collapsed": false
   },
   "outputs": [],
   "source": [
    "# target RDMs\n",
    "subordinate = np.array([[0,2.,2,2,2,2],\n",
    "                        [2,0,2,2,2,2],\n",
    "                        [2,2,0,2,2,2],\n",
    "                        [2,2,2,0,2,2],\n",
    "                        [2,2,2,2,0,2],\n",
    "                        [2,2,2,2,2,0]])\n",
    "subordinate = squareform(subordinate)\n",
    "\n",
    "superordinate = np.array([[0,1.,2,2,2,2],\n",
    "                          [1,0,2,2,2,2],\n",
    "                          [2,2,0,1,2,2],\n",
    "                          [2,2,1,0,2,2],\n",
    "                          [2,2,2,2,0,1],\n",
    "                          [2,2,2,2,1,0]])\n",
    "superordinate = squareform(superordinate)\n",
    "\n",
    "\n",
    "animate = np.array([[0,1.,1,2,2,2],\n",
    "                    [1,0,1,2,2,2],\n",
    "                    [1,1,0,2,2,2],\n",
    "                    [2,2,2,0,1,1],\n",
    "                    [2,2,2,1,0,1],\n",
    "                    [2,2,2,1,1,0]])\n",
    "animate = squareform(animate)\n",
    "\n",
    "continuum = np.array([[0,.4,.8,1.2,1.6,2],\n",
    "                      [.4,0,.4,.8,1.2,1.6],\n",
    "                      [.8,.4,0,.4,.8,1.2],\n",
    "                      [1.2,.8,.4,0,.4,.8],\n",
    "                      [1.6,1.2,.8,.4,0,.4],\n",
    "                      [2,1.6,1.2,.8,.4,0]])\n",
    "continuum = squareform(continuum)\n",
    "\n",
    "faces = np.array([[0,1.,2,2,2,2],\n",
    "                  [1,0,2,2,2,2],\n",
    "                  [2,2,0,2,2,2],\n",
    "                  [2,2,2,0,2,2],\n",
    "                  [2,2,2,2,0,2],\n",
    "                  [2,2,2,2,2,0]])\n",
    "faces = squareform(faces)\n",
    "\n",
    "np.random.seed(42)\n",
    "random_rsa = np.random.uniform(0, 2, 15)"
   ]
  },
  {
   "cell_type": "code",
   "execution_count": 6,
   "metadata": {
    "collapsed": false
   },
   "outputs": [],
   "source": [
    "if plot_figs:\n",
    "    rsas = ['subordinate', 'superordinate', 'animate',\n",
    "            'continuum', 'faces', 'random_rsa']\n",
    "\n",
    "    fig = pl.figure(figsize=(12, 10))\n",
    "    for i, rsa in enumerate(rsas):\n",
    "        ax = fig.add_subplot(2, 3, i+1)\n",
    "        ax.imshow(squareform(eval(rsa)), interpolation='nearest')\n",
    "        ax.set_title(rsa)\n",
    "        ax.axis('off')\n",
    "        pl.tight_layout()"
   ]
  },
  {
   "cell_type": "code",
   "execution_count": 7,
   "metadata": {
    "collapsed": true
   },
   "outputs": [],
   "source": [
    "radius_sphere = 6.5"
   ]
  },
  {
   "cell_type": "code",
   "execution_count": 8,
   "metadata": {
    "collapsed": false
   },
   "outputs": [],
   "source": [
    "# generate simulated data\n",
    "np.random.seed(101)\n",
    "nsubjects = 10\n",
    "nruns = 8\n",
    "a_clean, cluster_truth, dss = \\\n",
    "    sim.simple_sim1((50, 50), \n",
    "                    [subordinate, superordinate,animate, continuum, faces, random_rsa],\n",
    "                    roi_neighborhood=sim.Sphere(radius_sphere),\n",
    "                    nruns=nruns, nsubjects=nsubjects,\n",
    "                    # noise components -- we just add normal for now also with\n",
    "                    # spatial smoothing to possibly create difference in noise\n",
    "                    # characteristics across different kinds\n",
    "                    #\n",
    "                    # \"Instrumental noise\" -- generic nuisance\n",
    "                    noise_independent_std=5, noise_independent_smooth=1.5,\n",
    "                    # \"Intrinsic signal\", specific per each subject (due to\n",
    "                    # motion, whatever) -- might be fun for someone to cluster,\n",
    "                    # but irrelevant for us\n",
    "                    noise_subject_n=1, noise_subject_std=2, noise_subject_smooth=2.,\n",
    "                    # \"Intrinsic common signal\" -- probably generalizes across\n",
    "                    # subjects and fun for someone studying veins to get those\n",
    "                    # reproducible clusters.  It will be mixed in also with\n",
    "                    # different weights per each run.\n",
    "                    # Again -- might be fun for someone to cluster, but not for us\n",
    "                    # since it would not be representative of the original signal\n",
    "                    noise_common_n=1, noise_common_std=0, noise_common_smooth=2.)"
   ]
  },
  {
   "cell_type": "code",
   "execution_count": 9,
   "metadata": {
    "collapsed": false
   },
   "outputs": [],
   "source": [
    "dss_ = vstack(dss)\n",
    "dss_.sa['subjects'] = np.repeat(range(nsubjects), 15*nruns)"
   ]
  },
  {
   "cell_type": "code",
   "execution_count": 10,
   "metadata": {
    "collapsed": false
   },
   "outputs": [],
   "source": [
    "if plot_figs:\n",
    "    fig = figure()\n",
    "    ax = fig.add_subplot(111)\n",
    "    img = ax.imshow(cluster_truth, interpolation='nearest')\n",
    "    ax.set_title('Cluster Ground Truth');\n",
    "    ax.axis('off');\n",
    "    plt.colorbar(img);"
   ]
  },
  {
   "cell_type": "code",
   "execution_count": 11,
   "metadata": {
    "collapsed": true
   },
   "outputs": [],
   "source": [
    "# fisher transform the samples\n",
    "dss_.samples = np.arctanh(dss_.samples)"
   ]
  },
  {
   "cell_type": "code",
   "execution_count": 12,
   "metadata": {
    "collapsed": false
   },
   "outputs": [],
   "source": [
    "# Plot average across DSM\n",
    "if plot_figs:\n",
    "    fig = figure(figsize=(12, 10))\n",
    "    for i in range(10):\n",
    "        ax = fig.add_subplot(2, 5, i+1)\n",
    "        ax.imshow(np.mean(dss_.samples[dss_.sa.subjects == i], axis=0).reshape(*cluster_truth.shape))\n",
    "        ax.axis('off')\n",
    "        ax.set_title('Subject {0}'.format(i+1))\n",
    "        pl.tight_layout()"
   ]
  },
  {
   "cell_type": "code",
   "execution_count": 13,
   "metadata": {
    "collapsed": true
   },
   "outputs": [],
   "source": [
    "# create 'connectivity' matrix for this 2D image\n",
    "connectivity = grid_to_graph(*cluster_truth.shape)"
   ]
  },
  {
   "cell_type": "code",
   "execution_count": 14,
   "metadata": {
    "collapsed": false
   },
   "outputs": [],
   "source": [
    "n_splits = 4\n",
    "ks = np.arange(2, 11)\n",
    "corr_score_type = 'pearson'\n",
    "\n",
    "# run simulation for all methods -- takes less than 10m on a quad-core macbook air\n",
    "splitter_subjects = ShuffleSplit(len(np.unique(dss_.sa.subjects)), n_iter=n_splits, test_size=.5,\n",
    "                        random_state=42)\n",
    "splitter_runs = ShuffleSplit(len(np.unique(dss_.sa.chunks)), n_iter=n_splits, test_size=.5, random_state=43)"
   ]
  },
  {
   "cell_type": "code",
   "execution_count": 15,
   "metadata": {
    "collapsed": true
   },
   "outputs": [],
   "source": [
    "algorithms = {'complete': CompleteClusterMethod(),\n",
    "              'ward-str': WardClusterMethod(connectivity=connectivity),\n",
    "              'ward-unstr': WardClusterMethod(),\n",
    "              'kmeans': KMeansClusterMethod(),\n",
    "              'gmm-tied': GMMClusterMethod(covariance_type='tied'),\n",
    "              'gmm-diag': GMMClusterMethod(covariance_type='diag'),\n",
    "              'gmm-sph': GMMClusterMethod(covariance_type='spherical'),\n",
    "              'gmm-full': GMMClusterMethod(covariance_type='full')}"
   ]
  },
  {
   "cell_type": "code",
   "execution_count": 16,
   "metadata": {
    "collapsed": true
   },
   "outputs": [],
   "source": [
    "# set up additional cluster metrics\n",
    "\n",
    "# normalization scores for instability\n",
    "normalization_scores = rand_instability_score(ks, connectivity.size, 20)\n",
    "instability_score = InstabilityScore(normalization_scores)\n",
    "\n",
    "# correlation score\n",
    "correlation_score = CorrelationScore(corr_type=corr_score_type)\n",
    "\n",
    "# ari, ami\n",
    "ari = ARI()\n",
    "ami = AMI()\n",
    "\n",
    "cluster_metrics = [ari, ami, instability_score, correlation_score]"
   ]
  },
  {
   "cell_type": "code",
   "execution_count": 17,
   "metadata": {
    "collapsed": false
   },
   "outputs": [
    {
     "name": "stderr",
     "output_type": "stream",
     "text": [
      "/usr/local/lib/python2.7/site-packages/sklearn/pls.py:7: DeprecationWarning: This module has been moved to cross_decomposition and will be removed in 0.16\n",
      "  \"removed in 0.16\", DeprecationWarning)\n"
     ]
    }
   ],
   "source": [
    "# create functions to apply to the fold\n",
    "from mvpa2.mappers.fx import mean_group_sample\n",
    "from mdp.nodes import PCANode\n",
    "\n",
    "# mean\n",
    "def mean_fold(ds_train, ds_test):\n",
    "    return map(lambda x: mean_group_sample(['dissimilarity'])(x).samples, (ds_train, ds_test))\n",
    "\n",
    "# pca\n",
    "def pca_fold(ds_train, ds_test, explained_variance=.7):\n",
    "    \"\"\"PCA on the training set and use the same transformation on the test set\"\"\"\n",
    "    pca = PCANode(output_dim=explained_variance)\n",
    "    ds_train_ = pca(ds_train.samples.T).T\n",
    "    ds_test_ = pca.execute(ds_test.samples.T).T\n",
    "    return (ds_train_, ds_test_)"
   ]
  },
  {
   "cell_type": "code",
   "execution_count": 18,
   "metadata": {
    "collapsed": false
   },
   "outputs": [
    {
     "name": "stdout",
     "output_type": "stream",
     "text": [
      "Running gmm-sph done in 44.53s\n",
      "Running gmm-tied done in 49.09s\n",
      "Running complete done in 425.71s\n",
      "Running ward-str done in 32.46s\n",
      "Running gmm-full done in 107.11s\n",
      "Running gmm-diag done in 43.30s\n",
      "Running kmeans done in 31.64s\n",
      "Running ward-unstr done in 453.40s\n"
     ]
    }
   ],
   "source": [
    "result = {}\n",
    "for key, cluster_method in algorithms.items():\n",
    "    print 'Running {0}'.format(key),\n",
    "    tstart = time()\n",
    "    r = reproducibility(dss_, [splitter_subjects, splitter_runs], \n",
    "                        cluster_method, ks=ks, spaces=['sa.subjects', 'sa.chunks'],\n",
    "                        ground_truth=cluster_truth.reshape(-1,),\n",
    "                        cluster_metrics=cluster_metrics, fold_fx=mean_fold, n_jobs=1, verbose=0)\n",
    "    print 'done in {0:.2f}s'.format(time()-tstart)\n",
    "    result[key] = r"
   ]
  },
  {
   "cell_type": "code",
   "execution_count": 19,
   "metadata": {
    "collapsed": false
   },
   "outputs": [],
   "source": [
    "def result2df(result):\n",
    "    result_dict = {}\n",
    "    dfs = []\n",
    "    for method, value in result.items():\n",
    "        result_dict[method] = {}\n",
    "        for metric, scores in value.items():\n",
    "            result_dict[method][metric] = pd.Series(scores[1], index=scores[0], name=method)\n",
    "        tmp = pd.DataFrame(result_dict[method])\n",
    "        tmp['method'] = method\n",
    "        dfs.append(tmp)\n",
    "    return pd.DataFrame().append(dfs)"
   ]
  },
  {
   "cell_type": "code",
   "execution_count": 20,
   "metadata": {
    "collapsed": false
   },
   "outputs": [],
   "source": [
    "df = result2df(result)"
   ]
  },
  {
   "cell_type": "code",
   "execution_count": 21,
   "metadata": {
    "collapsed": false
   },
   "outputs": [],
   "source": [
    "fnout = 'simulation_results_rsph{0}_{1}_cv.csv'.format(radius_sphere, corr_score_type)\n",
    "df.to_csv(fnout)"
   ]
  },
  {
   "cell_type": "code",
   "execution_count": 22,
   "metadata": {
    "collapsed": false
   },
   "outputs": [
    {
     "name": "stdout",
     "output_type": "stream",
     "text": [
      "Loading required package: reshape2\n",
      "Loading required package: plyr\n",
      "Loading required package: ggplot2\n",
      "Loading required package: methods\n",
      "Saving simulation_results_rsph6.5_pearson_cv.pdf \n",
      "null device \n",
      "          1 \n"
     ]
    }
   ],
   "source": [
    "# assuming packages reshape2, plyr, ggplot2 and R are installed, \n",
    "# run the following line to generate the image\n",
    "!Rscript plot_simulated_results.R $fnout"
   ]
  },
  {
   "cell_type": "code",
   "execution_count": null,
   "metadata": {
    "collapsed": true
   },
   "outputs": [],
   "source": []
  }
 ],
 "metadata": {
  "kernelspec": {
   "display_name": "Python 2",
   "language": "python",
   "name": "python2"
  },
  "language_info": {
   "codemirror_mode": {
    "name": "ipython",
    "version": 2
   },
   "file_extension": ".py",
   "mimetype": "text/x-python",
   "name": "python",
   "nbconvert_exporter": "python",
   "pygments_lexer": "ipython2",
   "version": "2.7.9"
  }
 },
 "nbformat": 4,
 "nbformat_minor": 0
}
